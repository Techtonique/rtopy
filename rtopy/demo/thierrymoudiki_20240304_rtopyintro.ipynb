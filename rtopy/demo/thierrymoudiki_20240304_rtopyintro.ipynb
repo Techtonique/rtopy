{
  "nbformat": 4,
  "nbformat_minor": 0,
  "metadata": {
    "colab": {
      "provenance": []
    },
    "kernelspec": {
      "name": "python3",
      "display_name": "Python 3"
    },
    "language_info": {
      "name": "python"
    }
  },
  "cells": [
    {
      "cell_type": "markdown",
      "source": [
        "# 1 - Install and import `rtopy`"
      ],
      "metadata": {
        "id": "-6wqn6ITMP8A"
      }
    },
    {
      "cell_type": "code",
      "source": [
        "!pip install rtopy"
      ],
      "metadata": {
        "id": "7cH_HVqJMLXk"
      },
      "execution_count": null,
      "outputs": []
    },
    {
      "cell_type": "code",
      "source": [
        "import rtopy as rp"
      ],
      "metadata": {
        "id": "oNwEVkeDMdOf"
      },
      "execution_count": 2,
      "outputs": []
    },
    {
      "cell_type": "markdown",
      "source": [
        "# 2 - R codes"
      ],
      "metadata": {
        "id": "cCJC_FJkMaSO"
      }
    },
    {
      "cell_type": "code",
      "execution_count": 3,
      "metadata": {
        "id": "vUIYMlUSLkMH"
      },
      "outputs": [],
      "source": [
        "\n",
        "# notice the double braces\n",
        "# an R function that returns the product of an arbitrary number of arguments\n",
        "r_code1 = f\"\"\"my_func <- function(arg1=NULL, arg2=NULL, arg3=NULL, arg4=NULL, arg5=NULL) {{\n",
        "                args <- c(arg1, arg2, arg3, arg4, arg5);\n",
        "                args <- args[!sapply(args, is.null)];\n",
        "                result <- prod(args);\n",
        "                return(result)\n",
        "              }}\n",
        "              \"\"\"\n",
        "\n",
        "# an R function that returns the sum of an arbitrary number of arguments\n",
        "r_code2 = f\"\"\"my_func <- function(arg1=NULL, arg2=NULL, arg3=NULL, arg4=NULL, arg5=NULL) {{\n",
        "            args <- c(arg1, arg2, arg3, arg4, arg5);\n",
        "            args <- args[!sapply(args, is.null)];\n",
        "            result <- sum(args);\n",
        "            return(result)\n",
        "          }}\n",
        "         \"\"\"\n",
        "\n",
        "# an R function that returns a list of vectors\n",
        "r_code3 = f\"\"\"my_func <- function(arg1, arg2) {{\n",
        "            list(x = mtcars[, 'mpg'], y = mtcars[, arg1], z = mtcars[, arg2])\n",
        "          }}\n",
        "         \"\"\"\n",
        "\n",
        "# an R function that returns a vector\n",
        "r_code4 = f\"\"\"my_func <- function(arg1=NULL, arg2=NULL, arg3=NULL) {{\n",
        "            args <- c(arg1, arg2, arg3);\n",
        "            args <- args[!sapply(args, is.null)];\n",
        "            print(args);\n",
        "            return(as.vector(args))\n",
        "          }}\n",
        "         \"\"\"\n",
        "\n",
        "# an R function that returns a list of matrices\n",
        "# won't work for named rows\n",
        "r_code5 = f\"\"\"my_func <- function(arg1, arg2) {{\n",
        "            X <- as.matrix(mtcars);\n",
        "            colnames(X) <- NULL;\n",
        "            rownames(X) <- NULL;\n",
        "            list(x = X[, 1], y = X[, c(arg1, arg2)])\n",
        "          }}\n",
        "         \"\"\"\n",
        "\n",
        "# an R function that returns a list of vector, matrix and scalar\n",
        "r_code6 = f\"\"\"my_func <- function(arg1, arg2) {{\n",
        "            X <- as.matrix(mtcars);\n",
        "            colnames(X) <- NULL;\n",
        "            rownames(X) <- NULL;\n",
        "            list(x = X[, 1], y = X[, c(arg1, arg2)], z = 5)\n",
        "          }}\n",
        "         \"\"\""
      ]
    },
    {
      "cell_type": "markdown",
      "source": [
        "# 3 - Examples"
      ],
      "metadata": {
        "id": "s9hjatfRMV1d"
      }
    },
    {
      "cell_type": "code",
      "source": [
        "print(rp.callfunc(r_code=r_code1, type_result=\"int\", arg1=3, arg2=5, arg3=2))\n",
        "print(rp.callfunc(r_code=r_code2, type_result=\"float\", arg1=1.5, arg2=2.5, arg4=4.5))\n",
        "print(rp.callfunc(r_code=r_code2, type_result=\"float\", arg1=3.5, arg3=5.3, arg4=4.2))"
      ],
      "metadata": {
        "colab": {
          "base_uri": "https://localhost:8080/"
        },
        "id": "NVoOrWWeL74P",
        "outputId": "fabe406a-2431-4077-9744-9ebb179df296"
      },
      "execution_count": 4,
      "outputs": [
        {
          "output_type": "stream",
          "name": "stdout",
          "text": [
            "30\n",
            "8.5\n",
            "13.0\n"
          ]
        }
      ]
    },
    {
      "cell_type": "code",
      "source": [
        "res = rp.callfunc(r_code=r_code3, type_result=\"dict\", arg1=2, arg2=3)\n",
        "print(res)"
      ],
      "metadata": {
        "colab": {
          "base_uri": "https://localhost:8080/"
        },
        "id": "igJarV-GL7v-",
        "outputId": "2df0c4e5-7ae7-440b-ed92-3274cc5bace4"
      },
      "execution_count": 5,
      "outputs": [
        {
          "output_type": "stream",
          "name": "stdout",
          "text": [
            "{'x': [21.0, 21.0, 22.8, 21.4, 18.7, 18.1, 14.3, 24.4, 22.8, 19.2, 17.8, 16.4, 17.3, 15.2, 10.4, 10.4, 14.7, 32.4, 30.4, 33.9, 21.5, 15.5, 15.2, 13.3, 19.2, 27.3, 26.0, 30.4, 15.8, 19.7, 15.0, 21.4], 'y': [6.0, 6.0, 4.0, 6.0, 8.0, 6.0, 8.0, 4.0, 4.0, 6.0, 6.0, 8.0, 8.0, 8.0, 8.0, 8.0, 8.0, 4.0, 4.0, 4.0, 4.0, 8.0, 8.0, 8.0, 8.0, 4.0, 4.0, 4.0, 8.0, 6.0, 8.0, 4.0], 'z': [160.0, 160.0, 108.0, 258.0, 360.0, 225.0, 360.0, 146.7, 140.8, 167.6, 167.6, 275.8, 275.8, 275.8, 472.0, 460.0, 440.0, 78.7, 75.7, 71.1, 120.1, 318.0, 304.0, 350.0, 400.0, 79.0, 120.3, 95.1, 351.0, 145.0, 301.0, 121.0]}\n"
          ]
        }
      ]
    },
    {
      "cell_type": "code",
      "source": [
        "res2 = rp.callfunc(r_code=r_code3, type_result=\"dict\", arg1=\"cyl\", arg2=\"disp\")\n",
        "print(res2)"
      ],
      "metadata": {
        "colab": {
          "base_uri": "https://localhost:8080/"
        },
        "id": "SGgNVvySL7nY",
        "outputId": "5f76a966-f5a5-47d1-8c87-035ff61dbeda"
      },
      "execution_count": 6,
      "outputs": [
        {
          "output_type": "stream",
          "name": "stdout",
          "text": [
            "{'x': [21.0, 21.0, 22.8, 21.4, 18.7, 18.1, 14.3, 24.4, 22.8, 19.2, 17.8, 16.4, 17.3, 15.2, 10.4, 10.4, 14.7, 32.4, 30.4, 33.9, 21.5, 15.5, 15.2, 13.3, 19.2, 27.3, 26.0, 30.4, 15.8, 19.7, 15.0, 21.4], 'y': [6.0, 6.0, 4.0, 6.0, 8.0, 6.0, 8.0, 4.0, 4.0, 6.0, 6.0, 8.0, 8.0, 8.0, 8.0, 8.0, 8.0, 4.0, 4.0, 4.0, 4.0, 8.0, 8.0, 8.0, 8.0, 4.0, 4.0, 4.0, 8.0, 6.0, 8.0, 4.0], 'z': [160.0, 160.0, 108.0, 258.0, 360.0, 225.0, 360.0, 146.7, 140.8, 167.6, 167.6, 275.8, 275.8, 275.8, 472.0, 460.0, 440.0, 78.7, 75.7, 71.1, 120.1, 318.0, 304.0, 350.0, 400.0, 79.0, 120.3, 95.1, 351.0, 145.0, 301.0, 121.0]}\n"
          ]
        }
      ]
    },
    {
      "cell_type": "code",
      "source": [
        "res3 = rp.callfunc(r_code=r_code3, type_result=\"dict\", arg1=\"cyl\", arg2=3)\n",
        "print(res3)"
      ],
      "metadata": {
        "colab": {
          "base_uri": "https://localhost:8080/"
        },
        "id": "UL-UA46nL7fK",
        "outputId": "11fabcef-bcda-40d0-941f-5523f77b859c"
      },
      "execution_count": 7,
      "outputs": [
        {
          "output_type": "stream",
          "name": "stdout",
          "text": [
            "{'x': [21.0, 21.0, 22.8, 21.4, 18.7, 18.1, 14.3, 24.4, 22.8, 19.2, 17.8, 16.4, 17.3, 15.2, 10.4, 10.4, 14.7, 32.4, 30.4, 33.9, 21.5, 15.5, 15.2, 13.3, 19.2, 27.3, 26.0, 30.4, 15.8, 19.7, 15.0, 21.4], 'y': [6.0, 6.0, 4.0, 6.0, 8.0, 6.0, 8.0, 4.0, 4.0, 6.0, 6.0, 8.0, 8.0, 8.0, 8.0, 8.0, 8.0, 4.0, 4.0, 4.0, 4.0, 8.0, 8.0, 8.0, 8.0, 4.0, 4.0, 4.0, 8.0, 6.0, 8.0, 4.0], 'z': [160.0, 160.0, 108.0, 258.0, 360.0, 225.0, 360.0, 146.7, 140.8, 167.6, 167.6, 275.8, 275.8, 275.8, 472.0, 460.0, 440.0, 78.7, 75.7, 71.1, 120.1, 318.0, 304.0, 350.0, 400.0, 79.0, 120.3, 95.1, 351.0, 145.0, 301.0, 121.0]}\n"
          ]
        }
      ]
    },
    {
      "cell_type": "code",
      "source": [
        "res4 = rp.callfunc(r_code=r_code5, type_result=\"dict\", arg1=2, arg2=3)\n",
        "print(res4)"
      ],
      "metadata": {
        "colab": {
          "base_uri": "https://localhost:8080/"
        },
        "id": "u3j01VdlL7VO",
        "outputId": "8f23a3c9-02cc-4f7c-a495-d9695e553d38"
      },
      "execution_count": 8,
      "outputs": [
        {
          "output_type": "stream",
          "name": "stdout",
          "text": [
            "{'x': [21.0, 21.0, 22.8, 21.4, 18.7, 18.1, 14.3, 24.4, 22.8, 19.2, 17.8, 16.4, 17.3, 15.2, 10.4, 10.4, 14.7, 32.4, 30.4, 33.9, 21.5, 15.5, 15.2, 13.3, 19.2, 27.3, 26.0, 30.4, 15.8, 19.7, 15.0, 21.4], 'y': [[6.0, 160.0], [6.0, 160.0], [4.0, 108.0], [6.0, 258.0], [8.0, 360.0], [6.0, 225.0], [8.0, 360.0], [4.0, 146.7], [4.0, 140.8], [6.0, 167.6], [6.0, 167.6], [8.0, 275.8], [8.0, 275.8], [8.0, 275.8], [8.0, 472.0], [8.0, 460.0], [8.0, 440.0], [4.0, 78.7], [4.0, 75.7], [4.0, 71.1], [4.0, 120.1], [8.0, 318.0], [8.0, 304.0], [8.0, 350.0], [8.0, 400.0], [4.0, 79.0], [4.0, 120.3], [4.0, 95.1], [8.0, 351.0], [6.0, 145.0], [8.0, 301.0], [4.0, 121.0]]}\n"
          ]
        }
      ]
    },
    {
      "cell_type": "code",
      "source": [
        "print(rp.callfunc(r_code=r_code4, type_result=\"list\", arg1=3.5, arg2=5.3))\n",
        "print(rp.callfunc(r_code=r_code4, type_result=\"list\", arg1=3.5, arg2=5.3, arg3=4.1))"
      ],
      "metadata": {
        "colab": {
          "base_uri": "https://localhost:8080/"
        },
        "id": "6QUwKuyEMISm",
        "outputId": "a3f88584-1831-486d-f9b2-ed9509f78be6"
      },
      "execution_count": 9,
      "outputs": [
        {
          "output_type": "stream",
          "name": "stdout",
          "text": [
            "[3.5, 5.3]\n",
            "[3.5, 5.3, 4.1]\n"
          ]
        }
      ]
    },
    {
      "cell_type": "code",
      "source": [
        "res5 = rp.callfunc(r_code=r_code6, type_result=\"dict\", arg1=2, arg2=3)\n",
        "print(res5)"
      ],
      "metadata": {
        "colab": {
          "base_uri": "https://localhost:8080/"
        },
        "id": "A4EjYQJ0MKZK",
        "outputId": "99068e64-706f-42f4-d124-8913c2261f74"
      },
      "execution_count": 10,
      "outputs": [
        {
          "output_type": "stream",
          "name": "stdout",
          "text": [
            "{'x': [21.0, 21.0, 22.8, 21.4, 18.7, 18.1, 14.3, 24.4, 22.8, 19.2, 17.8, 16.4, 17.3, 15.2, 10.4, 10.4, 14.7, 32.4, 30.4, 33.9, 21.5, 15.5, 15.2, 13.3, 19.2, 27.3, 26.0, 30.4, 15.8, 19.7, 15.0, 21.4], 'y': [[6.0, 160.0], [6.0, 160.0], [4.0, 108.0], [6.0, 258.0], [8.0, 360.0], [6.0, 225.0], [8.0, 360.0], [4.0, 146.7], [4.0, 140.8], [6.0, 167.6], [6.0, 167.6], [8.0, 275.8], [8.0, 275.8], [8.0, 275.8], [8.0, 472.0], [8.0, 460.0], [8.0, 440.0], [4.0, 78.7], [4.0, 75.7], [4.0, 71.1], [4.0, 120.1], [8.0, 318.0], [8.0, 304.0], [8.0, 350.0], [8.0, 400.0], [4.0, 79.0], [4.0, 120.3], [4.0, 95.1], [8.0, 351.0], [6.0, 145.0], [8.0, 301.0], [4.0, 121.0]], 'z': 5.0}\n"
          ]
        }
      ]
    }
  ]
}